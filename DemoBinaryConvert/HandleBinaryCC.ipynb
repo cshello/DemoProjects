{
 "cells": [
  {
   "cell_type": "code",
   "execution_count": 1,
   "id": "fe63eae3-7f98-4a16-bae5-651cc995f75e",
   "metadata": {
    "tags": []
   },
   "outputs": [],
   "source": [
    "#include <iostream>\n",
    "#include <fstream>\n"
   ]
  },
  {
   "cell_type": "code",
   "execution_count": 2,
   "id": "b615a87a-87b7-4ff4-815c-b55cee95700f",
   "metadata": {
    "tags": []
   },
   "outputs": [],
   "source": [
    "using namespace std;"
   ]
  },
  {
   "cell_type": "markdown",
   "id": "eb16bc71-a232-4e27-a9a5-2fdcf8cf5ea0",
   "metadata": {},
   "source": [
    "## 读取二进制数据"
   ]
  },
  {
   "cell_type": "code",
   "execution_count": 3,
   "id": "2c89b6da-849a-4b1e-99ff-3ed54e36d824",
   "metadata": {
    "tags": []
   },
   "outputs": [],
   "source": [
    "ifstream ifs(\"data.bin\", ios::binary | ios::in);\n",
    "int data = 0;\n",
    "int data1 = 1;\n",
    "ifs.read(reinterpret_cast<char*>(&data), sizeof data);\n",
    "ifs.read(reinterpret_cast<char*>(&data1), sizeof data);\n",
    "ifs.close();\n"
   ]
  },
  {
   "cell_type": "code",
   "execution_count": 4,
   "id": "5af3b58b-e323-4fad-99d3-75a2acb8b27b",
   "metadata": {
    "tags": []
   },
   "outputs": [
    {
     "name": "stdout",
     "output_type": "stream",
     "text": [
      "1280\n",
      "1234\n"
     ]
    }
   ],
   "source": [
    "cout << data << endl;\n",
    "cout << data1 << endl;"
   ]
  },
  {
   "cell_type": "code",
   "execution_count": 5,
   "id": "e6856686-869f-4da0-89e7-f4dd5332099e",
   "metadata": {
    "tags": []
   },
   "outputs": [
    {
     "data": {
      "text/plain": [
       "40"
      ]
     },
     "execution_count": 5,
     "metadata": {},
     "output_type": "execute_result"
    }
   ],
   "source": [
    "sizeof data * 10"
   ]
  },
  {
   "cell_type": "code",
   "execution_count": null,
   "id": "65865b21-7a23-43c8-b0f3-4a5e40f0b69a",
   "metadata": {},
   "outputs": [],
   "source": []
  },
  {
   "cell_type": "markdown",
   "id": "fbf34434-d041-41c5-ba6e-facbe3b6ec15",
   "metadata": {},
   "source": [
    "## 保存二进制数据"
   ]
  },
  {
   "cell_type": "code",
   "execution_count": 6,
   "id": "3a23d275-4bf3-49f2-9dee-a43b402b2011",
   "metadata": {
    "tags": []
   },
   "outputs": [],
   "source": [
    "ofstream ofs(\"c2py.bin\", ios::binary | ios::out);\n",
    "int data[] = {12, 13};\n",
    "ofs.write((char *)data, sizeof(int) * 2);\n",
    "ofs.close()"
   ]
  },
  {
   "cell_type": "code",
   "execution_count": null,
   "id": "586ab754-63fc-4923-b42a-7983e7233a4c",
   "metadata": {},
   "outputs": [],
   "source": []
  },
  {
   "cell_type": "code",
   "execution_count": null,
   "id": "25c67526-fde3-4922-b6e9-e207c2ab741b",
   "metadata": {},
   "outputs": [],
   "source": []
  },
  {
   "cell_type": "code",
   "execution_count": null,
   "id": "d97cdc58-9d79-4cee-9e65-c66fbeddc3bc",
   "metadata": {},
   "outputs": [],
   "source": []
  }
 ],
 "metadata": {
  "kernelspec": {
   "display_name": "C++14",
   "language": "C++14",
   "name": "xcpp14"
  },
  "language_info": {
   "codemirror_mode": "text/x-c++src",
   "file_extension": ".cpp",
   "mimetype": "text/x-c++src",
   "name": "c++",
   "version": "14"
  }
 },
 "nbformat": 4,
 "nbformat_minor": 5
}
