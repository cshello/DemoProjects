{
 "cells": [
  {
   "cell_type": "code",
   "execution_count": 1,
   "id": "9aec99f5-e5e1-40db-98d4-224a9567601b",
   "metadata": {
    "tags": []
   },
   "outputs": [],
   "source": [
    "import os\n",
    "import struct"
   ]
  },
  {
   "cell_type": "markdown",
   "id": "9c717b5b-cf66-484a-b654-9330ae267e29",
   "metadata": {},
   "source": [
    "## 将数字转化成二进制格式"
   ]
  },
  {
   "cell_type": "code",
   "execution_count": 2,
   "id": "bb222adf-00af-4656-951d-50017a36a508",
   "metadata": {
    "tags": []
   },
   "outputs": [
    {
     "data": {
      "text/plain": [
       "(b'\\x01\\x00\\x00\\x00', b'\\x00\\x00\\x00\\x01')"
      ]
     },
     "execution_count": 2,
     "metadata": {},
     "output_type": "execute_result"
    }
   ],
   "source": [
    "struct.pack(\"<i\", 1), struct.pack(\">i\", 1)"
   ]
  },
  {
   "cell_type": "code",
   "execution_count": 3,
   "id": "e221d9a8-8ff4-4472-b3fd-76e673ef777e",
   "metadata": {
    "tags": []
   },
   "outputs": [
    {
     "data": {
      "text/plain": [
       "b'\\x01\\x00\\x00\\x00\\x02\\x00\\x00\\x00\\x00\\x00\\x00\\x00'"
      ]
     },
     "execution_count": 3,
     "metadata": {},
     "output_type": "execute_result"
    }
   ],
   "source": [
    "struct.pack(\"<iQ\", 1, 2)"
   ]
  },
  {
   "cell_type": "code",
   "execution_count": 4,
   "id": "31b868ca-e28c-4fb4-a664-14c35fa3f38d",
   "metadata": {
    "tags": []
   },
   "outputs": [],
   "source": [
    "with open(\"data.bin\", \"wb\") as f:\n",
    "    f.write(struct.pack(\"<i\", 1280))\n",
    "    f.write(struct.pack(\"<i\", 1234))"
   ]
  },
  {
   "cell_type": "code",
   "execution_count": 5,
   "id": "72a45fce-39e4-4bd3-a1ba-1fe05e49044c",
   "metadata": {
    "tags": []
   },
   "outputs": [
    {
     "data": {
      "text/plain": [
       "b'\\x00\\x05\\x00\\x00\\xd2\\x04\\x00\\x00'"
      ]
     },
     "execution_count": 5,
     "metadata": {},
     "output_type": "execute_result"
    }
   ],
   "source": [
    "with open(\"data.bin\", \"rb\") as f:\n",
    "    data = f.read()\n",
    "data"
   ]
  },
  {
   "cell_type": "code",
   "execution_count": 6,
   "id": "8d934ef9-6344-4882-8716-9f6c7e687ac8",
   "metadata": {
    "tags": []
   },
   "outputs": [
    {
     "name": "stdout",
     "output_type": "stream",
     "text": [
      "b'\\x0c\\x00\\x00\\x00\\r\\x00\\x00\\x00'\n",
      "12\n",
      "0\n"
     ]
    }
   ],
   "source": [
    "with open(\"c2py.bin\", \"rb\") as f:\n",
    "    data = f.read()\n",
    "print(data)\n",
    "print(data[0])\n",
    "print(data[1])"
   ]
  },
  {
   "cell_type": "code",
   "execution_count": 7,
   "id": "7b31c3c5-49cd-4cde-82c5-d477e6ce26b1",
   "metadata": {
    "tags": []
   },
   "outputs": [
    {
     "data": {
      "text/plain": [
       "(b'\\x0c\\x00\\x00\\x00', b'\\r\\x00\\x00\\x00')"
      ]
     },
     "execution_count": 7,
     "metadata": {},
     "output_type": "execute_result"
    }
   ],
   "source": [
    "struct.pack(\"<i\", 12), struct.pack(\"<i\", 13)"
   ]
  },
  {
   "cell_type": "markdown",
   "id": "74177450-c440-4363-a4ba-8788d40c9434",
   "metadata": {},
   "source": [
    "## 解析二进制数据"
   ]
  },
  {
   "cell_type": "code",
   "execution_count": 8,
   "id": "82683d37-13fa-4dca-a67e-e3c39a8e5698",
   "metadata": {
    "tags": []
   },
   "outputs": [
    {
     "data": {
      "text/plain": [
       "(12,)"
      ]
     },
     "execution_count": 8,
     "metadata": {},
     "output_type": "execute_result"
    }
   ],
   "source": [
    "struct.unpack(\"<i\", data[:4])"
   ]
  },
  {
   "cell_type": "code",
   "execution_count": 9,
   "id": "588336e0-1e92-4bb7-b36a-5434c32031b2",
   "metadata": {
    "tags": []
   },
   "outputs": [
    {
     "data": {
      "text/plain": [
       "(12,)"
      ]
     },
     "execution_count": 9,
     "metadata": {},
     "output_type": "execute_result"
    }
   ],
   "source": [
    "struct.unpack(\"<i\", struct.pack(\"<i\", 12))"
   ]
  },
  {
   "cell_type": "code",
   "execution_count": 10,
   "id": "14e3a968-c16a-4b71-9c6f-f9b374279731",
   "metadata": {
    "tags": []
   },
   "outputs": [
    {
     "data": {
      "text/plain": [
       "(12, 13)"
      ]
     },
     "execution_count": 10,
     "metadata": {},
     "output_type": "execute_result"
    }
   ],
   "source": [
    "struct.unpack(\"<iI\", struct.pack(\"<i\", 12) + struct.pack(\"<i\", 13))"
   ]
  },
  {
   "cell_type": "code",
   "execution_count": 11,
   "id": "b47d865b-9507-4ec8-8a64-f684236443bb",
   "metadata": {
    "tags": []
   },
   "outputs": [
    {
     "data": {
      "text/plain": [
       "66"
      ]
     },
     "execution_count": 11,
     "metadata": {},
     "output_type": "execute_result"
    }
   ],
   "source": [
    "0x42"
   ]
  }
 ],
 "metadata": {
  "kernelspec": {
   "display_name": "Python 3 (ipykernel)",
   "language": "python",
   "name": "python3"
  },
  "language_info": {
   "codemirror_mode": {
    "name": "ipython",
    "version": 3
   },
   "file_extension": ".py",
   "mimetype": "text/x-python",
   "name": "python",
   "nbconvert_exporter": "python",
   "pygments_lexer": "ipython3",
   "version": "3.10.10"
  }
 },
 "nbformat": 4,
 "nbformat_minor": 5
}
